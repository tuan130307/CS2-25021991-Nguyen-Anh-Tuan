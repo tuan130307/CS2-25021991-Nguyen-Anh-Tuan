{
 "cells": [
  {
   "cell_type": "code",
   "execution_count": 12,
   "id": "f8a7170a",
   "metadata": {},
   "outputs": [
    {
     "name": "stdout",
     "output_type": "stream",
     "text": [
      "2\n"
     ]
    }
   ],
   "source": [
    "#W1A1\n",
    "import sys\n",
    "sys.setrecursionlimit(10 ** 6)\n",
    "input =  sys.stdin.readline\n",
    "\n",
    "def process():\n",
    "    a = 7\n",
    "    b = 5\n",
    "    c = a - b\n",
    "    print(c)\n",
    "    \n",
    "\n",
    "def main():\n",
    "    numtests = 1\n",
    "    # numtests = int(input())\n",
    "    for _ in range(numtests): \n",
    "        process()\n",
    "\n",
    "if __name__ == \"__main__\" : \n",
    "    main()"
   ]
  },
  {
   "cell_type": "code",
   "execution_count": 5,
   "id": "5bb34545",
   "metadata": {},
   "outputs": [
    {
     "name": "stdout",
     "output_type": "stream",
     "text": [
      "Thành phố: Hà Nội - Năm:  2025\n"
     ]
    }
   ],
   "source": [
    "#W1A2\n",
    "import sys\n",
    "sys.setrecursionlimit(10 ** 6)\n",
    "input =  sys.stdin.readline\n",
    "\n",
    "def process():\n",
    "    city = \"Hà Nội\"\n",
    "    year = 2025\n",
    "    print(\"Thành phố:\", city,\"- Năm: \", year)\n",
    "    \n",
    "\n",
    "def main():\n",
    "    numtests = 1\n",
    "    # numtests = int(input())\n",
    "    for _ in range(numtests): \n",
    "        process()\n",
    "\n",
    "if __name__ == \"__main__\" : \n",
    "    main()"
   ]
  },
  {
   "cell_type": "code",
   "execution_count": 7,
   "id": "df3addc3",
   "metadata": {},
   "outputs": [
    {
     "name": "stdout",
     "output_type": "stream",
     "text": [
      "10\n"
     ]
    }
   ],
   "source": [
    "#W1A3\n",
    "import sys\n",
    "sys.setrecursionlimit(10 ** 6)\n",
    "input =  sys.stdin.readline\n",
    "\n",
    "def process():\n",
    "    n = 4\n",
    "    Sum = 0\n",
    "    for i in range(1, n + 1): \n",
    "        Sum += i\n",
    "    \n",
    "    print(Sum)\n",
    "    \n",
    "\n",
    "def main():\n",
    "    numtests = 1\n",
    "    # numtests = int(input())\n",
    "    for _ in range(numtests): \n",
    "        process()\n",
    "\n",
    "if __name__ == \"__main__\" : \n",
    "    main()"
   ]
  },
  {
   "cell_type": "code",
   "execution_count": 8,
   "id": "2e5a8e43",
   "metadata": {},
   "outputs": [
    {
     "name": "stdout",
     "output_type": "stream",
     "text": [
      "1 là số lẻ\n",
      "2 là số chẵn\n",
      "3 là số lẻ\n",
      "4 là số chẵn\n"
     ]
    }
   ],
   "source": [
    "#W1A4\n",
    "import sys\n",
    "sys.setrecursionlimit(10 ** 6)\n",
    "input =  sys.stdin.readline\n",
    "\n",
    "def process():\n",
    "    numbers = [1, 2, 3, 4]\n",
    "    for x in numbers:\n",
    "        if(x % 2 == 0):\n",
    "            print(x, \"là số chẵn\")\n",
    "        else:\n",
    "            print(x, \"là số lẻ\")\n",
    "    \n",
    "\n",
    "def main():\n",
    "    numtests = 1\n",
    "    # numtests = int(input())\n",
    "    for _ in range(numtests): \n",
    "        process()\n",
    "\n",
    "if __name__ == \"__main__\" : \n",
    "    main()"
   ]
  },
  {
   "cell_type": "code",
   "execution_count": null,
   "id": "fb3bb5cf",
   "metadata": {},
   "outputs": [
    {
     "name": "stdout",
     "output_type": "stream",
     "text": [
      "4\n"
     ]
    }
   ],
   "source": [
    "#W1A5\n",
    "import sys\n",
    "sys.setrecursionlimit(10 ** 6)\n",
    "input =  sys.stdin.readline\n",
    "\n",
    "def process():\n",
    "    animals = [\"cat\", \"dog\", \"cat\", \"bird\"]\n",
    "    cnt = 0\n",
    "    for i in animals:\n",
    "        cnt += 1\n",
    "    \n",
    "    print(cnt)\n",
    "\n",
    "def main():\n",
    "    numtests = 1\n",
    "    # numtests = int(input())\n",
    "    for _ in range(numtests): \n",
    "        process()\n",
    "\n",
    "if __name__ == \"__main__\" : \n",
    "    main()"
   ]
  },
  {
   "cell_type": "code",
   "execution_count": null,
   "id": "c74c114b",
   "metadata": {},
   "outputs": [],
   "source": [
    "#W1A6\n",
    "import sys\n",
    "sys.setrecursionlimit(10 ** 6)\n",
    "input =  sys.stdin.readline\n",
    "\n",
    "def process():\n",
    "    animals = [\"cat\", \"dog\", \"cat\", \"bird\"]\n",
    "    cnt = 0\n",
    "    for i in animals:\n",
    "        cnt += 1\n",
    "    \n",
    "    print(cnt)\n",
    "\n",
    "def main():\n",
    "    numtests = 1\n",
    "    # numtests = int(input())\n",
    "    for _ in range(numtests): \n",
    "        process()\n",
    "\n",
    "if __name__ == \"__main__\" : \n",
    "    main()"
   ]
  },
  {
   "cell_type": "code",
   "execution_count": null,
   "id": "72581282",
   "metadata": {},
   "outputs": [],
   "source": [
    "#W2A1\n",
    "import sys\n",
    "sys.setrecursionlimit(10 ** 6)\n",
    "input =  sys.stdin.readline\n",
    "\n",
    "def process():\n",
    "        animals = [\"cat\", \"dog\", \"cat\", \"bird\"]\n",
    "        cnt = 0\n",
    "        for i in animals:\n",
    "            cnt += 1\n",
    "        \n",
    "        print(cnt)\n",
    "\n",
    "def main():\n",
    "    numtests = 1\n",
    "    # numtests = int(input())\n",
    "    for _ in range(numtests): \n",
    "        process()\n",
    "\n",
    "if __name__ == \"__main__\" : \n",
    "    main()"
   ]
  }
 ],
 "metadata": {
  "kernelspec": {
   "display_name": "Python 3",
   "language": "python",
   "name": "python3"
  },
  "language_info": {
   "codemirror_mode": {
    "name": "ipython",
    "version": 3
   },
   "file_extension": ".py",
   "mimetype": "text/x-python",
   "name": "python",
   "nbconvert_exporter": "python",
   "pygments_lexer": "ipython3",
   "version": "3.13.7"
  }
 },
 "nbformat": 4,
 "nbformat_minor": 5
}
