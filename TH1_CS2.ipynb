{
 "cells": [
  {
   "cell_type": "code",
   "execution_count": 2,
   "id": "f8a7170a",
   "metadata": {},
   "outputs": [
    {
     "name": "stdout",
     "output_type": "stream",
     "text": [
      "2\n"
     ]
    }
   ],
   "source": [
    "import sys\n",
    "sys.setrecursionlimit(10 ** 6)\n",
    "input =  sys.stdin.readline\n",
    "\n",
    "def process():\n",
    "    a = 7\n",
    "    b = 5\n",
    "    c = a - b\n",
    "    print(c)\n",
    "    \n",
    "\n",
    "def main():\n",
    "    numtests = 1\n",
    "    # numtests = int(input())\n",
    "    for _ in range(numtests): \n",
    "        process()\n",
    "\n",
    "if __name__ == \"__main__\" : \n",
    "    main()\n",
    "    \n"
   ]
  }
 ],
 "metadata": {
  "kernelspec": {
   "display_name": "Python 3",
   "language": "python",
   "name": "python3"
  },
  "language_info": {
   "codemirror_mode": {
    "name": "ipython",
    "version": 3
   },
   "file_extension": ".py",
   "mimetype": "text/x-python",
   "name": "python",
   "nbconvert_exporter": "python",
   "pygments_lexer": "ipython3",
   "version": "3.13.7"
  }
 },
 "nbformat": 4,
 "nbformat_minor": 5
}
