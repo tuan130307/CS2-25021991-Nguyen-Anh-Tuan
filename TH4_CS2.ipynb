{
 "cells": [
  {
   "cell_type": "code",
   "execution_count": 36,
   "id": "cf2a8582",
   "metadata": {},
   "outputs": [
    {
     "name": "stdout",
     "output_type": "stream",
     "text": [
      "2\n"
     ]
    }
   ],
   "source": [
    "# W4A14: tinh gcd(n, m)\n",
    "import sys\n",
    "sys.setrecursionlimit(10 ** 6)\n",
    "\n",
    "def process():\n",
    "    n, m = map(int, input().split())\n",
    "    while(m != 0):\n",
    "        n, m = m, n % m\n",
    "    print(abs(n))\n",
    "\n",
    "def main():\n",
    "    numtests = 1\n",
    "    # numtests = int(input())\n",
    "    for _ in range(numtests): \n",
    "        process()\n",
    "\n",
    "main()"
   ]
  },
  {
   "cell_type": "code",
   "execution_count": 35,
   "id": "7a6011e6",
   "metadata": {},
   "outputs": [
    {
     "ename": "ValueError",
     "evalue": "invalid literal for int() with base 10: ''",
     "output_type": "error",
     "traceback": [
      "\u001b[31m---------------------------------------------------------------------------\u001b[39m",
      "\u001b[31mValueError\u001b[39m                                Traceback (most recent call last)",
      "\u001b[36mCell\u001b[39m\u001b[36m \u001b[39m\u001b[32mIn[35]\u001b[39m\u001b[32m, line 24\u001b[39m\n\u001b[32m     21\u001b[39m     \u001b[38;5;28;01mfor\u001b[39;00m _ \u001b[38;5;129;01min\u001b[39;00m \u001b[38;5;28mrange\u001b[39m(numtests): \n\u001b[32m     22\u001b[39m         process()\n\u001b[32m---> \u001b[39m\u001b[32m24\u001b[39m \u001b[43mmain\u001b[49m\u001b[43m(\u001b[49m\u001b[43m)\u001b[49m\n",
      "\u001b[36mCell\u001b[39m\u001b[36m \u001b[39m\u001b[32mIn[35]\u001b[39m\u001b[32m, line 22\u001b[39m, in \u001b[36mmain\u001b[39m\u001b[34m()\u001b[39m\n\u001b[32m     20\u001b[39m \u001b[38;5;66;03m# numtests = int(input())\u001b[39;00m\n\u001b[32m     21\u001b[39m \u001b[38;5;28;01mfor\u001b[39;00m _ \u001b[38;5;129;01min\u001b[39;00m \u001b[38;5;28mrange\u001b[39m(numtests): \n\u001b[32m---> \u001b[39m\u001b[32m22\u001b[39m     \u001b[43mprocess\u001b[49m\u001b[43m(\u001b[49m\u001b[43m)\u001b[49m\n",
      "\u001b[36mCell\u001b[39m\u001b[36m \u001b[39m\u001b[32mIn[35]\u001b[39m\u001b[32m, line 6\u001b[39m, in \u001b[36mprocess\u001b[39m\u001b[34m()\u001b[39m\n\u001b[32m      5\u001b[39m \u001b[38;5;28;01mdef\u001b[39;00m\u001b[38;5;250m \u001b[39m\u001b[34mprocess\u001b[39m():\n\u001b[32m----> \u001b[39m\u001b[32m6\u001b[39m     n = \u001b[38;5;28;43mint\u001b[39;49m\u001b[43m(\u001b[49m\u001b[38;5;28;43minput\u001b[39;49m\u001b[43m(\u001b[49m\u001b[43m)\u001b[49m\u001b[43m)\u001b[49m\n\u001b[32m      7\u001b[39m     NumEvenDivisors = \u001b[32m0\u001b[39m\n\u001b[32m      8\u001b[39m     \u001b[38;5;28;01mfor\u001b[39;00m i \u001b[38;5;129;01min\u001b[39;00m \u001b[38;5;28mrange\u001b[39m (\u001b[32m1\u001b[39m, \u001b[38;5;28mint\u001b[39m(n ** \u001b[32m1\u001b[39m/\u001b[32m2\u001b[39m) + \u001b[32m1\u001b[39m):\n",
      "\u001b[31mValueError\u001b[39m: invalid literal for int() with base 10: ''"
     ]
    }
   ],
   "source": [
    "# W4A11: dem so luong uoc chan cua n (n <= 10^6)\n",
    "import sys\n",
    "sys.setrecursionlimit(10 ** 6)\n",
    "\n",
    "def process():\n",
    "    n = int(input())\n",
    "    NumEvenDivisors = 0\n",
    "    for i in range (1, int(n ** 1/2) + 1):\n",
    "        if(n % i == 0):\n",
    "            if(i % 2 == 0):\n",
    "                NumEvenDivisors += 1\n",
    "            if(i != n/i):\n",
    "                if((n / i) % 2 == 0):\n",
    "                    NumEvenDivisors += 1\n",
    "\n",
    "    print(NumEvenDivisors)\n",
    "\n",
    "def main():\n",
    "    numtests = 1\n",
    "    # numtests = int(input())\n",
    "    for _ in range(numtests): \n",
    "        process()\n",
    "\n",
    "main()"
   ]
  },
  {
   "cell_type": "code",
   "execution_count": null,
   "id": "1f6517d9",
   "metadata": {},
   "outputs": [
    {
     "name": "stdout",
     "output_type": "stream",
     "text": [
      "41\n"
     ]
    }
   ],
   "source": [
    "# W4A7: tim uoc nguyen to lon nhat cua n\n",
    "import sys\n",
    "sys.setrecursionlimit(10 ** 6)\n",
    "\n",
    "def process():\n",
    "    n = int(input())\n",
    "    ans = 0\n",
    "    for i in range(2, int(n ** 1/2) + 1):\n",
    "        while(n % i == 0):\n",
    "            ans = i\n",
    "            n /= i\n",
    "    \n",
    "    if(n > 1):\n",
    "        ans = n\n",
    "    print(ans)\n",
    "\n",
    "def main():\n",
    "    numtests = 1\n",
    "    # numtests = int(input())\n",
    "    for _ in range(numtests): \n",
    "        process()\n",
    "\n",
    "main()"
   ]
  },
  {
   "cell_type": "code",
   "execution_count": 21,
   "id": "b8a54a45",
   "metadata": {},
   "outputs": [
    {
     "name": "stdout",
     "output_type": "stream",
     "text": [
      "1\n"
     ]
    }
   ],
   "source": [
    "# W4A4: nhap so nguyen n, in ra so chu so cua no (tru dau)\n",
    "import sys\n",
    "sys.setrecursionlimit(10 ** 6)\n",
    "\n",
    "def process():\n",
    "    n = int(input())\n",
    "    if(n < 0):\n",
    "        n = -n\n",
    "    numDigits = 0\n",
    "    while(n):\n",
    "        numDigits += 1\n",
    "        n = int(n / 10)\n",
    "    \n",
    "    print(numDigits)\n",
    "\n",
    "def main():\n",
    "    numtests = 1\n",
    "    # numtests = int(input())\n",
    "    for _ in range(numtests): \n",
    "        process()\n",
    "\n",
    "main()"
   ]
  },
  {
   "cell_type": "code",
   "execution_count": null,
   "id": "96a10752",
   "metadata": {},
   "outputs": [
    {
     "name": "stdout",
     "output_type": "stream",
     "text": [
      "120\n"
     ]
    }
   ],
   "source": [
    "# W4A3: tinh n!\n",
    "import sys\n",
    "sys.setrecursionlimit(10 ** 6)\n",
    "\n",
    "def process():\n",
    "    n = int(input())\n",
    "    ans = 1\n",
    "    for i in range (1, n + 1):\n",
    "        ans *= i\n",
    "    \n",
    "    print(ans)\n",
    "\n",
    "def main():\n",
    "    numtests = 1\n",
    "    # numtests = int(input())\n",
    "    for _ in range(numtests): \n",
    "        process()\n",
    "\n",
    "main()"
   ]
  },
  {
   "cell_type": "code",
   "execution_count": null,
   "id": "3918acb4",
   "metadata": {},
   "outputs": [
    {
     "name": "stdout",
     "output_type": "stream",
     "text": [
      "n la so nguyen to\n"
     ]
    }
   ],
   "source": [
    "# W4A2: nhap vao 1 so cho den khi do la so nguyen duong, kiem tra xem do co phai so nguyen to khong\n",
    "import sys\n",
    "sys.setrecursionlimit(10 ** 6)\n",
    "\n",
    "def process():\n",
    "    try: \n",
    "        n = int(input())\n",
    "        if(n > 0):\n",
    "            if(n == 1):\n",
    "                print(\"n khong phai so nguyen to\")\n",
    "                return\n",
    "            for i in range(2, int(n ** 1/2) + 1):\n",
    "                if(n % i == 0):\n",
    "                    print(\"n khong phai so nguyen to\")\n",
    "                    return\n",
    "                \n",
    "            print(\"n la so nguyen to\")\n",
    "        else: \n",
    "            print(\"n khong phai so nguyen duong\")\n",
    "    \n",
    "    except ValueError:\n",
    "        print(\"nhap vao khong phai so nguyen\")\n",
    "\n",
    "def main():\n",
    "    numtests = 1\n",
    "    # numtests = int(input())\n",
    "    for _ in range(numtests): \n",
    "        process()\n",
    "\n",
    "main()"
   ]
  },
  {
   "cell_type": "code",
   "execution_count": null,
   "id": "3aa809be",
   "metadata": {},
   "outputs": [
    {
     "name": "stdout",
     "output_type": "stream",
     "text": [
      "15\n"
     ]
    }
   ],
   "source": [
    "# W4A1: tinh tong tu 1 den n \n",
    "import sys\n",
    "sys.setrecursionlimit(10 ** 6)\n",
    "\n",
    "def process():\n",
    "    n = int(input())\n",
    "    Sum = 0\n",
    "    for i in range(n + 1):\n",
    "        Sum += i\n",
    "\n",
    "    print(Sum)\n",
    "\n",
    "def main():\n",
    "    numtests = 1\n",
    "    # numtests = int(input())\n",
    "    for _ in range(numtests): \n",
    "        process()\n",
    "\n",
    "main()"
   ]
  }
 ],
 "metadata": {
  "kernelspec": {
   "display_name": "Python 3",
   "language": "python",
   "name": "python3"
  },
  "language_info": {
   "codemirror_mode": {
    "name": "ipython",
    "version": 3
   },
   "file_extension": ".py",
   "mimetype": "text/x-python",
   "name": "python",
   "nbconvert_exporter": "python",
   "pygments_lexer": "ipython3",
   "version": "3.13.7"
  }
 },
 "nbformat": 4,
 "nbformat_minor": 5
}
