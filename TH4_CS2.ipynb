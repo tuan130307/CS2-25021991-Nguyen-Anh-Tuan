{
 "cells": [
  {
   "cell_type": "code",
   "execution_count": 36,
   "id": "cf2a8582",
   "metadata": {},
   "outputs": [
    {
     "name": "stdout",
     "output_type": "stream",
     "text": [
      "2\n"
     ]
    }
   ],
   "source": [
    "# W4A14: tinh gcd(n, m)\n",
    "import sys\n",
    "sys.setrecursionlimit(10 ** 6)\n",
    "\n",
    "def process():\n",
    "    n, m = map(int, input().split())\n",
    "    while(m != 0):\n",
    "        n, m = m, n % m\n",
    "    print(abs(n))\n",
    "\n",
    "def main():\n",
    "    numtests = 1\n",
    "    # numtests = int(input())\n",
    "    for _ in range(numtests): \n",
    "        process()\n",
    "\n",
    "main()"
   ]
  },
  {
   "cell_type": "code",
   "execution_count": 38,
   "id": "7a6011e6",
   "metadata": {},
   "outputs": [
    {
     "name": "stdout",
     "output_type": "stream",
     "text": [
      "1\n"
     ]
    }
   ],
   "source": [
    "# W4A11: dem so luong uoc chan cua n (n <= 10^6)\n",
    "import sys\n",
    "sys.setrecursionlimit(10 ** 6)\n",
    "\n",
    "def process():\n",
    "    n = int(input())\n",
    "    NumEvenDivisors = 0\n",
    "    for i in range (1, int(n ** 1/2) + 1):\n",
    "        if(n % i == 0):\n",
    "            if(i % 2 == 0):\n",
    "                NumEvenDivisors += 1\n",
    "            if(i != n/i):\n",
    "                if((n / i) % 2 == 0):\n",
    "                    NumEvenDivisors += 1\n",
    "\n",
    "    print(NumEvenDivisors)\n",
    "\n",
    "def main():\n",
    "    numtests = 1\n",
    "    # numtests = int(input())\n",
    "    for _ in range(numtests): \n",
    "        process()\n",
    "\n",
    "main()"
   ]
  },
  {
   "cell_type": "code",
   "execution_count": null,
   "id": "1f6517d9",
   "metadata": {},
   "outputs": [
    {
     "name": "stdout",
     "output_type": "stream",
     "text": [
      "41\n"
     ]
    }
   ],
   "source": [
    "# W4A7: tim uoc nguyen to lon nhat cua n\n",
    "import sys\n",
    "sys.setrecursionlimit(10 ** 6)\n",
    "\n",
    "def process():\n",
    "    n = int(input())\n",
    "    ans = 0\n",
    "    for i in range(2, int(n ** 1/2) + 1):\n",
    "        while(n % i == 0):\n",
    "            ans = i\n",
    "            n /= i\n",
    "    \n",
    "    if(n > 1):\n",
    "        ans = n\n",
    "    print(ans)\n",
    "\n",
    "def main():\n",
    "    numtests = 1\n",
    "    # numtests = int(input())\n",
    "    for _ in range(numtests): \n",
    "        process()\n",
    "\n",
    "main()"
   ]
  },
  {
   "cell_type": "code",
   "execution_count": 21,
   "id": "b8a54a45",
   "metadata": {},
   "outputs": [
    {
     "name": "stdout",
     "output_type": "stream",
     "text": [
      "1\n"
     ]
    }
   ],
   "source": [
    "# W4A4: nhap so nguyen n, in ra so chu so cua no (tru dau)\n",
    "import sys\n",
    "sys.setrecursionlimit(10 ** 6)\n",
    "\n",
    "def process():\n",
    "    n = int(input())\n",
    "    if(n < 0):\n",
    "        n = -n\n",
    "    numDigits = 0\n",
    "    while(n):\n",
    "        numDigits += 1\n",
    "        n = int(n / 10)\n",
    "    \n",
    "    print(numDigits)\n",
    "\n",
    "def main():\n",
    "    numtests = 1\n",
    "    # numtests = int(input())\n",
    "    for _ in range(numtests): \n",
    "        process()\n",
    "\n",
    "main()"
   ]
  },
  {
   "cell_type": "code",
   "execution_count": null,
   "id": "96a10752",
   "metadata": {},
   "outputs": [
    {
     "name": "stdout",
     "output_type": "stream",
     "text": [
      "120\n"
     ]
    }
   ],
   "source": [
    "# W4A3: tinh n!\n",
    "import sys\n",
    "sys.setrecursionlimit(10 ** 6)\n",
    "\n",
    "def process():\n",
    "    n = int(input())\n",
    "    ans = 1\n",
    "    for i in range (1, n + 1):\n",
    "        ans *= i\n",
    "    \n",
    "    print(ans)\n",
    "\n",
    "def main():\n",
    "    numtests = 1\n",
    "    # numtests = int(input())\n",
    "    for _ in range(numtests): \n",
    "        process()\n",
    "\n",
    "main()"
   ]
  },
  {
   "cell_type": "code",
   "execution_count": null,
   "id": "3918acb4",
   "metadata": {},
   "outputs": [
    {
     "name": "stdout",
     "output_type": "stream",
     "text": [
      "n la so nguyen to\n"
     ]
    }
   ],
   "source": [
    "# W4A2: nhap vao 1 so cho den khi do la so nguyen duong, kiem tra xem do co phai so nguyen to khong\n",
    "import sys\n",
    "sys.setrecursionlimit(10 ** 6)\n",
    "\n",
    "def process():\n",
    "    try: \n",
    "        n = int(input())\n",
    "        if(n > 0):\n",
    "            if(n == 1):\n",
    "                print(\"n khong phai so nguyen to\")\n",
    "                return\n",
    "            for i in range(2, int(n ** 1/2) + 1):\n",
    "                if(n % i == 0):\n",
    "                    print(\"n khong phai so nguyen to\")\n",
    "                    return\n",
    "                \n",
    "            print(\"n la so nguyen to\")\n",
    "        else: \n",
    "            print(\"n khong phai so nguyen duong\")\n",
    "    \n",
    "    except ValueError:\n",
    "        print(\"nhap vao khong phai so nguyen\")\n",
    "\n",
    "def main():\n",
    "    numtests = 1\n",
    "    # numtests = int(input())\n",
    "    for _ in range(numtests): \n",
    "        process()\n",
    "\n",
    "main()"
   ]
  },
  {
   "cell_type": "code",
   "execution_count": null,
   "id": "3aa809be",
   "metadata": {},
   "outputs": [
    {
     "name": "stdout",
     "output_type": "stream",
     "text": [
      "15\n"
     ]
    }
   ],
   "source": [
    "# W4A1: tinh tong tu 1 den n \n",
    "import sys\n",
    "sys.setrecursionlimit(10 ** 6)\n",
    "\n",
    "def process():\n",
    "    n = int(input())\n",
    "    Sum = 0\n",
    "    for i in range(n + 1):\n",
    "        Sum += i\n",
    "\n",
    "    print(Sum)\n",
    "\n",
    "def main():\n",
    "    numtests = 1\n",
    "    # numtests = int(input())\n",
    "    for _ in range(numtests): \n",
    "        process()\n",
    "\n",
    "main()"
   ]
  }
 ],
 "metadata": {
  "kernelspec": {
   "display_name": "Python 3",
   "language": "python",
   "name": "python3"
  },
  "language_info": {
   "codemirror_mode": {
    "name": "ipython",
    "version": 3
   },
   "file_extension": ".py",
   "mimetype": "text/x-python",
   "name": "python",
   "nbconvert_exporter": "python",
   "pygments_lexer": "ipython3",
   "version": "3.13.7"
  }
 },
 "nbformat": 4,
 "nbformat_minor": 5
}
