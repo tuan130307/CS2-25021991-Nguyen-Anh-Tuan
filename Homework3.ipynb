{
 "cells": [
  {
   "cell_type": "code",
   "execution_count": 2,
   "id": "0051bc36",
   "metadata": {},
   "outputs": [
    {
     "name": "stdout",
     "output_type": "stream",
     "text": [
      "Yes\n"
     ]
    }
   ],
   "source": [
    "#W3A3:\n",
    "import sys\n",
    "sys.setrecursionlimit(10 ** 6)\n",
    "\n",
    "def process():\n",
    "    a = int(input())\n",
    "    if((a & (a - 1)) == 0):\n",
    "        print(\"Yes\")\n",
    "    else:\n",
    "        print(\"No\")\n",
    "\n",
    "def main():\n",
    "    numtests = 1\n",
    "    # numtests = int(input())\n",
    "    for _ in range(numtests): \n",
    "        process()\n",
    "\n",
    "main()"
   ]
  },
  {
   "cell_type": "code",
   "execution_count": 3,
   "id": "1b94261d",
   "metadata": {},
   "outputs": [
    {
     "name": "stdout",
     "output_type": "stream",
     "text": [
      "1\n"
     ]
    }
   ],
   "source": [
    "#W3A4:\n",
    "import sys\n",
    "sys.setrecursionlimit(10 ** 6)\n",
    "\n",
    "def process():\n",
    "    m, n = map(int, input().split())\n",
    "    print(m // n)\n",
    "\n",
    "def main():\n",
    "    numtests = 1\n",
    "    # numtests = int(input())\n",
    "    for _ in range(numtests): \n",
    "        process()\n",
    "\n",
    "main()"
   ]
  },
  {
   "cell_type": "code",
   "execution_count": 5,
   "id": "53590a7b",
   "metadata": {},
   "outputs": [
    {
     "name": "stdout",
     "output_type": "stream",
     "text": [
      "Odd\n"
     ]
    }
   ],
   "source": [
    "#W3A6\n",
    "import sys\n",
    "sys.setrecursionlimit(10 ** 6)\n",
    "\n",
    "def process():\n",
    "    x = int(input())\n",
    "    print(\"Odd\" if x % 2 else \"Even\")\n",
    "\n",
    "def main():\n",
    "    numtests = 1\n",
    "    # numtests = int(input())\n",
    "    for _ in range(numtests): \n",
    "        process()\n",
    "\n",
    "main()"
   ]
  },
  {
   "cell_type": "code",
   "execution_count": 7,
   "id": "62693547",
   "metadata": {},
   "outputs": [
    {
     "name": "stdout",
     "output_type": "stream",
     "text": [
      "No\n"
     ]
    }
   ],
   "source": [
    "#W3A7\n",
    "import sys\n",
    "sys.setrecursionlimit(10 ** 6)\n",
    "\n",
    "def process():\n",
    "    a, b = map(int, input().split())\n",
    "    print(\"Yes\" if a < 0 and b < 0 else \"No\")\n",
    "\n",
    "def main():\n",
    "    numtests = 1\n",
    "    # numtests = int(input())\n",
    "    for _ in range(numtests): \n",
    "        process()\n",
    "\n",
    "main()"
   ]
  },
  {
   "cell_type": "code",
   "execution_count": null,
   "id": "b65cc67d",
   "metadata": {},
   "outputs": [
    {
     "name": "stdout",
     "output_type": "stream",
     "text": [
      "True\n",
      "aa aa\n",
      "aaa\n"
     ]
    }
   ],
   "source": [
    "#W3A8\n",
    "import sys\n",
    "sys.setrecursionlimit(10 ** 6)\n",
    "\n",
    "def process():\n",
    "    a = str(input())\n",
    "    b = str(input())\n",
    "    print(\"True\" if len(a) > len(b) else \"False\")\n",
    "\n",
    "def main():\n",
    "    numtests = 1\n",
    "    # numtests = int(input())\n",
    "    for _ in range(numtests): \n",
    "        process()\n",
    "\n",
    "main()"
   ]
  }
 ],
 "metadata": {
  "kernelspec": {
   "display_name": "Python 3",
   "language": "python",
   "name": "python3"
  },
  "language_info": {
   "codemirror_mode": {
    "name": "ipython",
    "version": 3
   },
   "file_extension": ".py",
   "mimetype": "text/x-python",
   "name": "python",
   "nbconvert_exporter": "python",
   "pygments_lexer": "ipython3",
   "version": "3.13.7"
  }
 },
 "nbformat": 4,
 "nbformat_minor": 5
}
