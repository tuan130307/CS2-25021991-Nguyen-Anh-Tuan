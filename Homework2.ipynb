{
 "cells": [
  {
   "cell_type": "code",
   "execution_count": null,
   "id": "a152e59f",
   "metadata": {},
   "outputs": [
    {
     "name": "stdout",
     "output_type": "stream",
     "text": [
      "30 50\n"
     ]
    }
   ],
   "source": [
    "# bai 1: nhập 2 cạnh của 1 HCN, tính diện tích và chu vi\n",
    "import sys\n",
    "sys.setrecursionlimit(10 ** 6)\n",
    "\n",
    "def process():\n",
    "    a, b = map(int, input().split())\n",
    "    print(a * b, 2 * (a + b))\n",
    "\n",
    "def main():\n",
    "    numtests = 1\n",
    "    # numtests = int(input())\n",
    "    for _ in range(numtests): \n",
    "        process()\n",
    "\n",
    "main()"
   ]
  },
  {
   "cell_type": "code",
   "execution_count": 2,
   "id": "d8f8541a",
   "metadata": {},
   "outputs": [
    {
     "name": "stdout",
     "output_type": "stream",
     "text": [
      "28.26 18.84\n"
     ]
    }
   ],
   "source": [
    "# bai 2: nhập vào bán kính của hình tròn, in ra diện tích và chu vi\n",
    "import sys\n",
    "sys.setrecursionlimit(10 ** 6)\n",
    "\n",
    "def process():\n",
    "    r = int(input())\n",
    "    pi = 3.14\n",
    "    print(r * r * pi, 2 * r * pi)\n",
    "\n",
    "def main():\n",
    "    numtests = 1\n",
    "    # numtests = int(input())\n",
    "    for _ in range(numtests): \n",
    "        process()\n",
    "\n",
    "main()"
   ]
  },
  {
   "cell_type": "code",
   "execution_count": 6,
   "id": "55d5062d",
   "metadata": {},
   "outputs": [
    {
     "name": "stdout",
     "output_type": "stream",
     "text": [
      "-0.6\n"
     ]
    }
   ],
   "source": [
    "# bài 4: giải pt ax + b = 0\n",
    "import sys\n",
    "sys.setrecursionlimit(10 ** 6)\n",
    "\n",
    "def process():\n",
    "    a, b = map(int, input().split())\n",
    "    if(b % a == 0):\n",
    "        print(-b / a)\n",
    "    else:    \n",
    "        print(float(-b/a))\n",
    "\n",
    "def main():\n",
    "    numtests = 1\n",
    "    # numtests = int(input())\n",
    "    for _ in range(numtests): \n",
    "        process()\n",
    "\n",
    "main()\n"
   ]
  },
  {
   "cell_type": "code",
   "execution_count": 14,
   "id": "0c513b2b",
   "metadata": {},
   "outputs": [
    {
     "name": "stdout",
     "output_type": "stream",
     "text": [
      "1.0 5.0\n"
     ]
    }
   ],
   "source": [
    "# bài 5: giải pt ax^2 + bx + c = 0\n",
    "import sys\n",
    "sys.setrecursionlimit(10 ** 6)\n",
    "\n",
    "def process():\n",
    "    a, b, c = map(int, input().split())\n",
    "    delta = b * b - 4 * a * c\n",
    "    if(delta < 0):\n",
    "        print(\"phuong trinh vo nghiem\")\n",
    "        return\n",
    "    \n",
    "    if(delta == 0): \n",
    "        print(-b/(2 * a))\n",
    "    \n",
    "    else :\n",
    "        print((-b - delta**0.5)/(2*a), (-b + delta**0.5)/(2 * a))\n",
    "        \n",
    "\n",
    "def main():\n",
    "    numtests = 1\n",
    "    # numtests = int(input())\n",
    "    for _ in range(numtests): \n",
    "        process()\n",
    "\n",
    "main()"
   ]
  },
  {
   "cell_type": "code",
   "execution_count": null,
   "id": "ab1d9ca5",
   "metadata": {},
   "outputs": [
    {
     "name": "stdout",
     "output_type": "stream",
     "text": [
      "4\n"
     ]
    }
   ],
   "source": [
    "# bài 6: tìm max 4 số a, b, c, d\n",
    "import sys\n",
    "sys.setrecursionlimit(10 ** 6)\n",
    "\n",
    "def process():\n",
    "    a, b, c, d = map(int, input().split())\n",
    "    print(max(a, b, c, d))\n",
    "        \n",
    "\n",
    "def main():\n",
    "    numtests = 1\n",
    "    # numtests = int(input())\n",
    "    for _ in range(numtests): \n",
    "        process()\n",
    "\n",
    "main()"
   ]
  },
  {
   "cell_type": "code",
   "execution_count": 19,
   "id": "44c44750",
   "metadata": {},
   "outputs": [
    {
     "name": "stdout",
     "output_type": "stream",
     "text": [
      "1\n"
     ]
    }
   ],
   "source": [
    "# bài 7: tìm min a, b, c, d\n",
    "import sys\n",
    "sys.setrecursionlimit(10 ** 6)\n",
    "\n",
    "def process():\n",
    "    a, b, c, d = map(int, input().split())\n",
    "    print(min(a, b, c, d))    \n",
    "\n",
    "def main():\n",
    "    numtests = 1\n",
    "    # numtests = int(input())\n",
    "    for _ in range(numtests): \n",
    "        process()\n",
    "\n",
    "main()"
   ]
  }
 ],
 "metadata": {
  "kernelspec": {
   "display_name": "Python 3",
   "language": "python",
   "name": "python3"
  },
  "language_info": {
   "codemirror_mode": {
    "name": "ipython",
    "version": 3
   },
   "file_extension": ".py",
   "mimetype": "text/x-python",
   "name": "python",
   "nbconvert_exporter": "python",
   "pygments_lexer": "ipython3",
   "version": "3.13.7"
  }
 },
 "nbformat": 4,
 "nbformat_minor": 5
}
