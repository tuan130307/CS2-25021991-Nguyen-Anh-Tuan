{
 "cells": [
  {
   "cell_type": "code",
   "execution_count": null,
   "id": "65f96356",
   "metadata": {},
   "outputs": [],
   "source": [
    "import sys\n",
    "sys.setrecursionlimit(10 ** 6)\n",
    "input =  sys.stdin.readline\n",
    "\n",
    "def process():\n",
    "    a = 7\n",
    "    b = 5\n",
    "    c = a - b\n",
    "    print(c)\n",
    "    \n",
    "\n",
    "def main():\n",
    "    numtests = 1\n",
    "    # numtests = int(input())\n",
    "    for _ in range(numtests): \n",
    "        process()\n",
    "\n",
    "if __name__ == \"__main__\" : \n",
    "    main()\n",
    "    \n"
   ]
  }
 ],
 "metadata": {
  "language_info": {
   "name": "python"
  }
 },
 "nbformat": 4,
 "nbformat_minor": 5
}
