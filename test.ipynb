{
 "cells": [
  {
   "cell_type": "code",
   "execution_count": null,
   "id": "65f96356",
   "metadata": {},
   "outputs": [],
   "source": [
    "import sys\n",
    "sys.setrecursionlimit(10 ** 6)\n",
    "input =  sys.stdin.readline\n",
    "\n",
    "def process():\n",
    "    n, maxW = map(int, input().split())\n",
    "    w = [0] * (n + 1)\n",
    "    v = [0] * (n + 1)\n",
    "    for i in range(1, n + 1):\n",
    "        w[i], v[i] = map(int, input().split())\n",
    "        \n",
    "    dp = [-10 ** 18] * (maxW + 5)\n",
    "    dp[0] = 0\n",
    "\n",
    "    for i in range(1, n + 1):\n",
    "        for j in range(maxW, w[i] - 1, -1):\n",
    "            dp[j] = max(dp[j], dp[j - w[i]] + v[i])\n",
    "\n",
    "    ans = -10 ** 18\n",
    "    for i  in range(0, maxW + 1):\n",
    "        ans = max(ans, dp[i])\n",
    "\n",
    "    print(ans)\n",
    "    \n",
    "    \n",
    "    \n",
    "\n",
    "def main():\n",
    "    numtests = 1\n",
    "    # numtests = int(input())\n",
    "    for _ in range(numtests): \n",
    "        process()\n",
    "\n",
    "if __name__ == \"__main__\" : \n",
    "    main()"
   ]
  }
 ],
 "metadata": {
  "language_info": {
   "name": "python"
  }
 },
 "nbformat": 4,
 "nbformat_minor": 5
}
